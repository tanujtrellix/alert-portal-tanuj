{
 "cells": [
  {
   "cell_type": "code",
   "execution_count": 1,
   "metadata": {},
   "outputs": [
    {
     "name": "stdout",
     "output_type": "stream",
     "text": [
      "Address not found\n"
     ]
    }
   ],
   "source": [
    "import geoip2.database\n",
    "\n",
    "geo_ip_db_file = \"/Users/tanuj.maheshwari/Documents/GitHub/alert-portal/python-porting/db_files/GeoLite2-City.mmdb\"\n",
    "\n",
    "reader = geoip2.database.Reader(geo_ip_db_file)\n",
    "\n",
    "ipval = \"235.62.235.105\"\n",
    "\n",
    "try:\n",
    "    response = reader.city(ipval)\n",
    "    print(\"Country:\", response.country.name)\n",
    "    print(\"Country Code:\", response.country.iso_code)\n",
    "    print(\"City:\", response.city.name)\n",
    "    print(\"Latitude:\", response.location.latitude)\n",
    "    print(\"Longitude:\", response.location.longitude)\n",
    "    print(\"Region:\", response.subdivisions.most_specific.name)\n",
    "    print(\"Postal Code:\", response.postal.code)\n",
    "except geoip2.errors.AddressNotFoundError:\n",
    "    print(\"Address not found\")\n",
    "except Exception as e:\n",
    "    print(\"An error occurred:\", e)\n",
    "    print(type(e))\n",
    "    print(e.args)"
   ]
  },
  {
   "cell_type": "code",
   "execution_count": null,
   "metadata": {},
   "outputs": [],
   "source": []
  }
 ],
 "metadata": {
  "kernelspec": {
   "display_name": ".venv",
   "language": "python",
   "name": "python3"
  },
  "language_info": {
   "codemirror_mode": {
    "name": "ipython",
    "version": 3
   },
   "file_extension": ".py",
   "mimetype": "text/x-python",
   "name": "python",
   "nbconvert_exporter": "python",
   "pygments_lexer": "ipython3",
   "version": "3.9.6"
  }
 },
 "nbformat": 4,
 "nbformat_minor": 2
}
